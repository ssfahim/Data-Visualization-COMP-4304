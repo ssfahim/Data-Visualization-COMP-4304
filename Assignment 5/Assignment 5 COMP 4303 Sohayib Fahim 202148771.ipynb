{
 "cells": [
  {
   "cell_type": "markdown",
   "id": "16613c1f-5e55-4f63-b9d5-d6dc9c6566df",
   "metadata": {},
   "source": [
    "# Assignment 5 COMP 4304\n",
    "## SOHAYIB SAZID FAHIM\n",
    "### 202148771\n",
    "### MAR 19, 2023"
   ]
  },
  {
   "cell_type": "code",
   "execution_count": 1,
   "id": "fde1106a-4d75-41f1-8b54-080ecff11a54",
   "metadata": {},
   "outputs": [],
   "source": [
    "import pandas as pd\n",
    "import matplotlib.pyplot as plt\n",
    "import numpy as np\n",
    "import seaborn as sns\n",
    "import ipywidgets as widgets\n",
    "from ipywidgets import interact"
   ]
  },
  {
   "cell_type": "code",
   "execution_count": 2,
   "id": "30cc3a52-de82-4f25-be97-343a50f894a1",
   "metadata": {},
   "outputs": [],
   "source": [
    "df = pd.read_csv('diamonds.csv')\n",
    "df2 = pd.read_csv('names.csv')"
   ]
  },
  {
   "cell_type": "markdown",
   "id": "255e6fb4-ef2c-49c1-8ebd-b892e91a7a59",
   "metadata": {},
   "source": [
    "## Question 1"
   ]
  },
  {
   "cell_type": "code",
   "execution_count": 3,
   "id": "f74b99ed-c7e8-459c-8fef-804372f22ec5",
   "metadata": {},
   "outputs": [
    {
     "data": {
      "application/vnd.jupyter.widget-view+json": {
       "model_id": "3e44fdb64a394093bc41708e22cf6e53",
       "version_major": 2,
       "version_minor": 0
      },
      "text/plain": [
       "interactive(children=(Dropdown(description='Origin', options=('All', 'Natural', 'Lab'), value='All'), Output()…"
      ]
     },
     "metadata": {},
     "output_type": "display_data"
    }
   ],
   "source": [
    "df = pd.read_csv('diamonds.csv')\n",
    "typ = df.type.drop_duplicates()\n",
    "\n",
    "@interact(Origin = (['All','Natural', 'Lab']))\n",
    "\n",
    "def f(Origin):\n",
    "    \n",
    "    df1 = df[df.type == Origin]\n",
    "    \n",
    "    if(Origin == 'All'):\n",
    "        df1 = df[df.type.isin(typ)]\n",
    "    elif(Origin == 'Natural'):\n",
    "        df1 = df[df.type == 'natural']\n",
    "    else:\n",
    "        df1 = df[df.type == 'lab']\n",
    "        \n",
    "    fig, ax = plt.subplots(figsize=(8, 8))\n",
    "\n",
    "    table = df1.pivot_table(values=\"carat\", index=\"colour\", columns=\"clarity\", aggfunc=np.mean)[['SI2','SI1','VS2','VS1','VVS2','VVS1','IF']].loc[[\"D\", \"E\", \"F\", \"G\", \"H\", \"I\", \"J\"]].values\n",
    "    # sorted_table = table.sort_index(axis=1, ascending=True)\n",
    "\n",
    "    heatmap = ax.imshow(table, cmap=\"mako\")\n",
    "\n",
    "    cbar = ax.figure.colorbar(heatmap, ax=ax, shrink = 0.8)\n",
    "\n",
    "    ax.set_xticks(np.arange(0, 7, 1))\n",
    "    ax.set_yticks(np.arange(0, 7, 1))\n",
    "    ax.set_xticklabels(['SI2','SI1','VS2','VS1','VVS2','VVS1','IF'], fontsize=12)\n",
    "    ax.set_yticklabels([\"D\", \"E\", \"F\", \"G\", \"H\", \"I\", \"J\"][::-1], fontsize=12)\n",
    "    ax.set_ylabel(\"Color\")\n",
    "    ax.set_xlabel(\"Clarity\")\n",
    "\n",
    "    ax.set_yticklabels([\"D\", \"E\", \"F\", \"G\", \"H\", \"I\", \"J\"], fontsize=12, rotation=90)"
   ]
  },
  {
   "cell_type": "markdown",
   "id": "9faab166-9ef9-472d-bdab-d6cb39a1bd20",
   "metadata": {},
   "source": [
    "## Question 2"
   ]
  },
  {
   "cell_type": "code",
   "execution_count": 4,
   "id": "207658a8-56da-4d31-9a74-8328b6871182",
   "metadata": {},
   "outputs": [
    {
     "data": {
      "application/vnd.jupyter.widget-view+json": {
       "model_id": "befc728cc1be43c490adc20ef2780ddf",
       "version_major": 2,
       "version_minor": 0
      },
      "text/plain": [
       "interactive(children=(ToggleButtons(description='x', options=('Baby boy names', 'Baby girl names'), value='Bab…"
      ]
     },
     "metadata": {},
     "output_type": "display_data"
    }
   ],
   "source": [
    "names_df = pd.read_csv('names.csv')\n",
    "names_df['name'] = names_df['name'].str.lower().str.strip()\n",
    "\n",
    "top_100_boy_names = names_df[(names_df['year'] == 2020) & (names_df['sex'] == 'boy') & (names_df['rank'] <= 100)]\n",
    "top_100_girl_names = names_df[(names_df['year'] == 2020) & (names_df['sex'] == 'girl') & (names_df['rank'] <= 100)] \n",
    "\n",
    "boy_names = top_100_boy_names['name'].unique()\n",
    "boys_names_df = names_df[names_df['name'].isin(boy_names) & (names_df['sex'] == 'boy')]\n",
    "girls_names = top_100_girl_names['name'].unique()\n",
    "girls_names_df = names_df[names_df['name'].isin(girls_names) & (names_df['sex'] == 'girl')]\n",
    "\n",
    "# buttons = (widgets.ToggleButtons(options=['Baby boy names', 'Baby girl names'],description = '',disabled = False))\n",
    "# name = \n",
    "\n",
    "# @interact(names=widgets.ToggleButtons(options=['Baby boy names', 'Baby girl names']), name = '')\n",
    "@interact(x = (widgets.ToggleButtons(options=['Baby boy names', 'Baby girl names'], disabled = False, description = \"\")), name = (widgets.Text(value=\"\", description='Name: ')))\n",
    "def show_names(x, name):\n",
    "    colors = ['#206095', '#004662', '#A8BD3A', '#27A0CC', '#118C78', '#F66068']\n",
    "    str = ''\n",
    "    name_lst = []\n",
    "    for i in name:\n",
    "        if i != '':\n",
    "            str = str+ i\n",
    "        else:\n",
    "            str = str + '' + i\n",
    "    name_lst = str.split()\n",
    "\n",
    "    # color = '#888888'\n",
    "    fig, ax = plt.subplots(figsize = (10,8))\n",
    "    if x == 'Baby boy names':\n",
    "        sns.lineplot(x='year', y='rank', hue='name', data=boys_names_df, palette = ['#EBECF0']*100, legend = False)\n",
    "        if len(name_lst) > 0 and len(name_lst) <= 6:\n",
    "            if len(name_lst) <= 6:\n",
    "                \n",
    "                for i in range(len(name_lst)):\n",
    "                    ax.plot(boys_names_df[boys_names_df['name'] == name_lst[i].lower()]['year'], \n",
    "                                          boys_names_df[boys_names_df['name'] == name_lst[i].lower()]['rank'], color = colors[i], linewidth = 2, label = name_lst[i].lower())\n",
    "                    ax.plot(boys_names_df[boys_names_df['name'] == name_lst[i].lower()]['year'], \n",
    "                                              boys_names_df[boys_names_df['name'] == name_lst[i].lower()]['rank'], color = colors[i], linewidth = 2, marker='o')\n",
    "                    ax.legend(loc = 'lower right')\n",
    "                \n",
    "    elif x == 'Baby girl names':\n",
    "        sns.lineplot(x='year', y='rank', hue='name', data=girls_names_df, palette = ['#EBECF0']*100, legend = False)\n",
    "        if len(name_lst) > 0 and len(name_lst) <= 6:\n",
    "            if len(name_lst) <= 6:\n",
    "                j = 0\n",
    "                for i in range(len(name_lst)):\n",
    "                    ax.plot(girls_names_df[girls_names_df['name'] == name_lst[i].lower()]['year'], \n",
    "                                          girls_names_df[girls_names_df['name'] == name_lst[i].lower()]['rank'], color = colors[i], linewidth = 2, label = name_lst[i].lower())\n",
    "                    ax.plot(girls_names_df[girls_names_df['name'] == name_lst[i].lower()]['year'], \n",
    "                                              girls_names_df[girls_names_df['name'] == name_lst[i].lower()]['rank'], color = colors[i], linewidth = 2, marker='o')\n",
    "                    ax.legend(loc = 'lower right')\n",
    "    \n",
    "    ax.set_yticks([1, 100, 200, 300, 400, 500, 600, 700, 800, 900, 1000])\n",
    "    ax.set_xticks(range(1996, 2021, 2))\n",
    "    ax.set_ylim(1, 1050)\n",
    "    plt.title('Popularity ranking (1 being the most popular)')\n",
    "    ax.spines['left'].set_visible(False)\n",
    "    ax.grid(axis='y')\n",
    "    ax.set(xlabel=None, ylabel=None)\n",
    "    ax.invert_yaxis()\n",
    "    sns.despine(left=True, right=True, top=True)\n",
    "\n",
    "    plt.show()\n"
   ]
  }
 ],
 "metadata": {
  "kernelspec": {
   "display_name": "Python 3 (ipykernel)",
   "language": "python",
   "name": "python3"
  },
  "language_info": {
   "codemirror_mode": {
    "name": "ipython",
    "version": 3
   },
   "file_extension": ".py",
   "mimetype": "text/x-python",
   "name": "python",
   "nbconvert_exporter": "python",
   "pygments_lexer": "ipython3",
   "version": "3.9.12"
  }
 },
 "nbformat": 4,
 "nbformat_minor": 5
}
